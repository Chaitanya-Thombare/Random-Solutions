{
 "cells": [
  {
   "cell_type": "code",
   "execution_count": 2,
   "metadata": {},
   "outputs": [],
   "source": [
    "def get_all_words(path):\n",
    "    with open(path) as f:\n",
    "        words = f.read().split('\\n')\n",
    "    return words"
   ]
  },
  {
   "cell_type": "code",
   "execution_count": 3,
   "metadata": {},
   "outputs": [],
   "source": [
    "def topletter(words):\n",
    "    alphabets = list('qwertyuiopasdfghjklzxcvbnm')\n",
    "    zeros = [0] * 26\n",
    "\n",
    "    letter_stat = dict(zip(alphabets, zeros))\n",
    "\n",
    "    for word in words:\n",
    "        for letter in set(list(word)):\n",
    "            letter_stat[letter] += 1\n",
    "    topL = []\n",
    "\n",
    "    topL = list(dict(sorted(letter_stat.items(), key=lambda item: item[1], reverse=True)).keys())\n",
    "\n",
    "    return(topL)\n"
   ]
  },
  {
   "cell_type": "code",
   "execution_count": 4,
   "metadata": {},
   "outputs": [],
   "source": [
    "def best_guess(letters, words):\n",
    "    for i1 in range(len(letters)):\n",
    "        for i2 in range(i1+1, len(letters)):\n",
    "            for i3 in range(i2+1, len(letters)):\n",
    "                for i4 in range(i3+1, len(letters)):\n",
    "                    for i5 in range(i4+1, len(letters)):\n",
    "                        letter5 = [letters[i1], letters[i2], letters[i3], letters[i4], letters[i5], ]\n",
    "                        best_guess_list = []\n",
    "                        for word in words:\n",
    "                            flag = True\n",
    "                            for letter in letter5:\n",
    "                                if letter not in word:\n",
    "                                    flag = False\n",
    "                                    break\n",
    "                            if flag:\n",
    "                                best_guess_list.append(word)\n",
    "                            \n",
    "                        if best_guess_list:\n",
    "                            return best_guess_list"
   ]
  },
  {
   "cell_type": "code",
   "execution_count": 5,
   "metadata": {},
   "outputs": [],
   "source": [
    "def filter_words(B_letters, Y_letters, G_letters, words):\n",
    "    to_remove = []\n",
    "    for word in words:\n",
    "        for letter in B_letters:\n",
    "            if letter in word:\n",
    "                to_remove.append(word)\n",
    "                break\n",
    "        for letter in Y_letters:\n",
    "            if letter not in word:\n",
    "                to_remove.append(word)\n",
    "        for letter in G_letters.keys():\n",
    "            if word[G_letters[letter]] != letter:\n",
    "                to_remove.append(word)\n",
    "    words = list(set(words) - set(to_remove))\n",
    "    return words"
   ]
  },
  {
   "cell_type": "code",
   "execution_count": 6,
   "metadata": {},
   "outputs": [],
   "source": [
    "def compare(key, guess):\n",
    "    result = ['B', 'B', 'B', 'B', 'B']\n",
    "    for i in range(5):\n",
    "        if guess[i] == key[i]: result[i] = 'G'\n",
    "        elif guess[i] in key: result[i] = 'Y'\n",
    "    return result"
   ]
  },
  {
   "cell_type": "code",
   "execution_count": 7,
   "metadata": {},
   "outputs": [],
   "source": [
    "def attempt(words):\n",
    "    topL = topletter(words)\n",
    "    best_guess_list = best_guess(topL, words)\n",
    "    return best_guess_list"
   ]
  },
  {
   "cell_type": "code",
   "execution_count": 8,
   "metadata": {},
   "outputs": [],
   "source": [
    "def validate_result():\n",
    "    valid_flag = False\n",
    "    final_result = []\n",
    "    while not valid_flag:\n",
    "        result_str = input(\"Enter result - \").upper()\n",
    "        result_str_test = result_str\n",
    "        result_str_test = result_str_test.replace(\"Y\", \"\")\n",
    "        result_str_test = result_str_test.replace(\"B\", \"\")\n",
    "        result_str_test = result_str_test.replace(\"G\", \"\")\n",
    "\n",
    "        if len(result_str_test) != 0: \n",
    "            print(\"Please enter valid input!\")\n",
    "            continue\n",
    "        else:\n",
    "            final_result = list(result_str)\n",
    "            valid_flag = True\n",
    "    \n",
    "    return final_result"
   ]
  },
  {
   "cell_type": "code",
   "execution_count": 9,
   "metadata": {},
   "outputs": [],
   "source": [
    "def process_result(result, guess):\n",
    "    B_letters = []\n",
    "    Y_letters = []\n",
    "    G_letters = {}\n",
    "    for i in range(5):\n",
    "        if result[i] == 'B':\n",
    "            B_letters.append(guess[i])\n",
    "        elif result[i] == 'Y':\n",
    "            Y_letters.append(guess[i])\n",
    "        elif result[i] == 'G':\n",
    "            G_letters[guess[i]] = i\n",
    "    return B_letters, Y_letters, G_letters"
   ]
  },
  {
   "cell_type": "code",
   "execution_count": 10,
   "metadata": {},
   "outputs": [],
   "source": [
    "def play_wordle(key=None):\n",
    "    words = get_all_words(\"sgb-words.txt\")\n",
    "    print(\"_\"*80, f\"\\nTotal Words -> {len(words)}\")\n",
    "    for i in range(6):\n",
    "        print(\"_\"*80, f\"\\nAttempt {i+1}\")\n",
    "        if len(words) < 30: print(f\"Possible Words ->{words}\")\n",
    "        guess_words = attempt(words)\n",
    "        print(f\"Best Attempt -> {guess_words}\")\n",
    "        if key: result = compare(key, guess_words[0])\n",
    "        elif key == None: result = validate_result()\n",
    "        B_letters, Y_letters, G_letters = process_result(result, guess_words[0])\n",
    "        words = filter_words(B_letters, Y_letters, G_letters, words)\n",
    "        print(f\"Result -> {result}\")\n",
    "        print(f\"Words left -> {len(words)}\")\n",
    "        if result == ['G', 'G', 'G', 'G', 'G']: \n",
    "            print(\"_\"*80, \"\\nGlad I could help!\\n\", \"_\"*80)\n",
    "            break"
   ]
  },
  {
   "cell_type": "code",
   "execution_count": 11,
   "metadata": {},
   "outputs": [
    {
     "name": "stdout",
     "output_type": "stream",
     "text": [
      "________________________________________________________________________________ \n",
      "Total Words -> 5757\n",
      "________________________________________________________________________________ \n",
      "Attempt 1\n",
      "Best Attempt -> ['arose']\n",
      "Result -> ['B', 'G', 'B', 'B', 'Y']\n",
      "Words left -> 76\n",
      "________________________________________________________________________________ \n",
      "Attempt 2\n",
      "Best Attempt -> ['tried']\n",
      "Result -> ['B', 'G', 'G', 'G', 'B']\n",
      "Words left -> 7\n",
      "________________________________________________________________________________ \n",
      "Attempt 3\n",
      "Possible Words ->['frier', 'brier', 'brief', 'grief', 'wrier', 'crier', 'prier']\n",
      "Best Attempt -> ['brief']\n",
      "Result -> ['G', 'G', 'G', 'G', 'G']\n",
      "Words left -> 1\n",
      "________________________________________________________________________________ \n",
      "Glad I could help!\n",
      " ________________________________________________________________________________\n"
     ]
    }
   ],
   "source": [
    "play_wordle('brief')"
   ]
  }
 ],
 "metadata": {
  "kernelspec": {
   "display_name": "base",
   "language": "python",
   "name": "python3"
  },
  "language_info": {
   "codemirror_mode": {
    "name": "ipython",
    "version": 3
   },
   "file_extension": ".py",
   "mimetype": "text/x-python",
   "name": "python",
   "nbconvert_exporter": "python",
   "pygments_lexer": "ipython3",
   "version": "3.10.9"
  },
  "orig_nbformat": 4
 },
 "nbformat": 4,
 "nbformat_minor": 2
}
