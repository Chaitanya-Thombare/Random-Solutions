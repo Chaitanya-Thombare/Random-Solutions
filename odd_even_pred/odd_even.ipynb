{
 "cells": [
  {
   "cell_type": "code",
   "execution_count": 1,
   "metadata": {},
   "outputs": [],
   "source": [
    "import numpy as np"
   ]
  },
  {
   "cell_type": "code",
   "execution_count": 2,
   "metadata": {},
   "outputs": [],
   "source": [
    "def backward(p_Y, g_Y, W, X):\n",
    "    cost = -1 * np.mean(((1 + g_Y) * np.log((1 + p_Y)/2)) + ((1 - g_Y) * np.log((1 - p_Y)/2)))\n",
    "    dZ = (1 - g_Y) / (1 - p_Y) - (1 + g_Y) / (1 + p_Y)\n",
    "    X = X / 1000\n",
    "    dW = np.dot(2 * dZ, X)\n",
    "    W -= dW * 0.001\n",
    "    return cost, W"
   ]
  },
  {
   "cell_type": "code",
   "execution_count": 3,
   "metadata": {},
   "outputs": [],
   "source": [
    "def forward(W, x):\n",
    "    return np.cos(W*x)"
   ]
  },
  {
   "cell_type": "code",
   "execution_count": 4,
   "metadata": {},
   "outputs": [],
   "source": [
    "X = np.array((range(1, 101)))\n",
    "y = np.zeros(100)\n",
    "y[X % 2 == 1] = -1\n",
    "y[y % 2 == 0] = 1"
   ]
  },
  {
   "cell_type": "code",
   "execution_count": 154,
   "metadata": {},
   "outputs": [],
   "source": [
    "W = 3"
   ]
  },
  {
   "cell_type": "code",
   "execution_count": 165,
   "metadata": {},
   "outputs": [
    {
     "data": {
      "text/plain": [
       "(2.6332910475822757, -328.9183242738337)"
      ]
     },
     "execution_count": 165,
     "metadata": {},
     "output_type": "execute_result"
    }
   ],
   "source": [
    "pred_y = forward(W, X)\n",
    "cost, W = backward(pred_y, y, W, X)\n",
    "cost, W"
   ]
  },
  {
   "attachments": {},
   "cell_type": "markdown",
   "metadata": {},
   "source": [
    "The thing I am trying to acheive is create a model that converges weights to pi. cosine function is "
   ]
  }
 ],
 "metadata": {
  "kernelspec": {
   "display_name": "Python 3",
   "language": "python",
   "name": "python3"
  },
  "language_info": {
   "codemirror_mode": {
    "name": "ipython",
    "version": 3
   },
   "file_extension": ".py",
   "mimetype": "text/x-python",
   "name": "python",
   "nbconvert_exporter": "python",
   "pygments_lexer": "ipython3",
   "version": "3.10.3"
  },
  "orig_nbformat": 4
 },
 "nbformat": 4,
 "nbformat_minor": 2
}
